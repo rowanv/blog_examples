{
 "cells": [
  {
   "cell_type": "markdown",
   "metadata": {},
   "source": [
    "\n",
    "\n",
    "We use `initialize_javascript` so that we are able to render our plots within the iPython notebook, and `np.random.seed` so we are able to reproduce our results. "
   ]
  },
  {
   "cell_type": "code",
   "execution_count": 2,
   "metadata": {
    "collapsed": false
   },
   "outputs": [
    {
     "data": {
      "text/html": [
       "<link media=\"all\" href=\"https://cdnjs.cloudflare.com/ajax/libs/nvd3/1.7.0/nv.d3.min.css\" type=\"text/css\"\n",
       "                        rel=\"stylesheet\"/>"
      ],
      "text/plain": [
       "<IPython.core.display.HTML object>"
      ]
     },
     "metadata": {},
     "output_type": "display_data"
    },
    {
     "data": {
      "application/javascript": [
       "$.getScript(\"https://cdnjs.cloudflare.com/ajax/libs/nvd3/1.7.0/nv.d3.min.js\")"
      ],
      "text/plain": [
       "<IPython.core.display.Javascript object>"
      ]
     },
     "metadata": {},
     "output_type": "display_data"
    },
    {
     "data": {
      "application/javascript": [
       "$.getScript(\"https://cdnjs.cloudflare.com/ajax/libs/d3/3.5.5/d3.min.js\", function() {\n",
       "                              $.getScript(\"https://cdnjs.cloudflare.com/ajax/libs/nvd3/1.7.0/nv.d3.min.js\", function() {})});"
      ],
      "text/plain": [
       "<IPython.core.display.Javascript object>"
      ]
     },
     "metadata": {},
     "output_type": "display_data"
    },
    {
     "data": {
      "text/html": [
       "<script src=\"https://cdnjs.cloudflare.com/ajax/libs/d3/3.5.5/d3.min.js\"></script>"
      ],
      "text/plain": [
       "<IPython.core.display.HTML object>"
      ]
     },
     "metadata": {},
     "output_type": "display_data"
    },
    {
     "data": {
      "text/html": [
       "<script src=\"https://cdnjs.cloudflare.com/ajax/libs/nvd3/1.7.0/nv.d3.min.js\"></script>"
      ],
      "text/plain": [
       "<IPython.core.display.HTML object>"
      ]
     },
     "metadata": {},
     "output_type": "display_data"
    }
   ],
   "source": [
    "import numpy as np\n",
    "import nvd3\n",
    "\n",
    "\n",
    "nvd3.ipynb.initialize_javascript(use_remote=True)\n",
    "np.random.seed(100)\n"
   ]
  },
  {
   "cell_type": "markdown",
   "metadata": {},
   "source": [
    "Next, we initialize our `discreteBarChart` object with our desired chart configurations. We pass it our y and x data series, making sure to convert from the numpy.float64, since nvd3 cannot work with unconverted numpy types at this point."
   ]
  },
  {
   "cell_type": "code",
   "execution_count": 3,
   "metadata": {
    "collapsed": true
   },
   "outputs": [],
   "source": [
    "chart_type = 'discreteBarChart'\n",
    "chart = nvd3.discreteBarChart(name=chart_type, height=500, width=500)\n",
    "\n",
    "ydata = [float(x) for x in np.random.randn(10)]\n",
    "xdata = [int(x) for x in np.arange(10)]\n",
    "\n",
    "chart.add_serie(y=ydata, x=xdata)\n",
    "chart.buildhtml()\n",
    "chart_html = chart.htmlcontent\n"
   ]
  },
  {
   "cell_type": "markdown",
   "metadata": {},
   "source": [
    "We can see the output of the rendered HTML -- it's created some JS and HTML elements - "
   ]
  },
  {
   "cell_type": "code",
   "execution_count": 4,
   "metadata": {
    "collapsed": false
   },
   "outputs": [
    {
     "data": {
      "text/plain": [
       "'<!DOCTYPE html>\\n<html lang=\"en\">\\n    <head>\\n        <meta charset=\"utf-8\" />\\n        <link href=\"https://cdnjs.cloudflare.com/ajax/libs/nvd3/1.7.0/nv.d3.min.css\" rel=\"stylesheet\" />\\n        <script src=\"https://cdnjs.cloudflare.com/ajax/libs/d3/3.5.5/d3.min.js\"></script>\\n        <script src=\"https://cdnjs.cloudflare.com/ajax/libs/nvd3/1.7.0/nv.d3.min.js\"></script>\\n    </head>\\n    <body>\\n        \\n    <div id=\"discretebarchart\"><svg style=\"width:500px;height:500px;\"></svg></div>\\n\\n\\n    <script>\\n\\n\\n\\n                data_discretebarchart=[{\"key\": \"Serie 1\", \"values\": [{\"x\": 0, \"y\": -1.7497654730546974}, {\"x\": 1, \"y\": 0.34268040332750216}, {\"x\": 2, \"y\": 1.153035802563644}, {\"x\": 3, \"y\": -0.25243603652138985}, {\"x\": 4, \"y\": 0.9813207869512316}, {\"x\": 5, \"y\": 0.5142188413943821}, {\"x\": 6, \"y\": 0.22117966922140045}, {\"x\": 7, \"y\": -1.0700433305682933}, {\"x\": 8, \"y\": -0.18949583082317534}, {\"x\": 9, \"y\": 0.25500144427338167}], \"yAxis\": \"1\"}];\\n\\n\\n            nv.addGraph(function() {\\n        var chart = nv.models.discreteBarChart();\\n\\n        chart.margin({top: 30, right: 60, bottom: 20, left: 60});\\n\\n        var datum = data_discretebarchart;\\n\\n\\n\\n                    chart.yAxis\\n                .tickFormat(d3.format(\\',.0f\\'));\\n\\n    \\n    \\n\\n        \\n\\n\\n\\n            d3.select(\\'#discretebarchart svg\\')\\n            .datum(datum)\\n            .transition().duration(500)\\n            .attr(\\'width\\', 500)\\n            .attr(\\'height\\', 500)\\n            .call(chart);\\n\\n    \\n        });\\n\\n\\n\\n    </script>\\n\\n    </body>\\n</html>'"
      ]
     },
     "execution_count": 4,
     "metadata": {},
     "output_type": "execute_result"
    }
   ],
   "source": [
    "chart_html"
   ]
  },
  {
   "cell_type": "markdown",
   "metadata": {},
   "source": [
    "And if we want to view the actual chart, we can use the `display` and `HTML` functions below:"
   ]
  },
  {
   "cell_type": "code",
   "execution_count": 5,
   "metadata": {
    "collapsed": false
   },
   "outputs": [
    {
     "data": {
      "text/html": [
       "<!DOCTYPE html>\n",
       "<html lang=\"en\">\n",
       "    <head>\n",
       "        <meta charset=\"utf-8\" />\n",
       "        <link href=\"https://cdnjs.cloudflare.com/ajax/libs/nvd3/1.7.0/nv.d3.min.css\" rel=\"stylesheet\" />\n",
       "        <script src=\"https://cdnjs.cloudflare.com/ajax/libs/d3/3.5.5/d3.min.js\"></script>\n",
       "        <script src=\"https://cdnjs.cloudflare.com/ajax/libs/nvd3/1.7.0/nv.d3.min.js\"></script>\n",
       "    </head>\n",
       "    <body>\n",
       "        \n",
       "    <div id=\"discretebarchart\"><svg style=\"width:500px;height:500px;\"></svg></div>\n",
       "\n",
       "\n",
       "    <script>\n",
       "\n",
       "\n",
       "\n",
       "                data_discretebarchart=[{\"key\": \"Serie 1\", \"values\": [{\"x\": 0, \"y\": -1.7497654730546974}, {\"x\": 1, \"y\": 0.34268040332750216}, {\"x\": 2, \"y\": 1.153035802563644}, {\"x\": 3, \"y\": -0.25243603652138985}, {\"x\": 4, \"y\": 0.9813207869512316}, {\"x\": 5, \"y\": 0.5142188413943821}, {\"x\": 6, \"y\": 0.22117966922140045}, {\"x\": 7, \"y\": -1.0700433305682933}, {\"x\": 8, \"y\": -0.18949583082317534}, {\"x\": 9, \"y\": 0.25500144427338167}], \"yAxis\": \"1\"}];\n",
       "\n",
       "\n",
       "            nv.addGraph(function() {\n",
       "        var chart = nv.models.discreteBarChart();\n",
       "\n",
       "        chart.margin({top: 30, right: 60, bottom: 20, left: 60});\n",
       "\n",
       "        var datum = data_discretebarchart;\n",
       "\n",
       "\n",
       "\n",
       "                    chart.yAxis\n",
       "                .tickFormat(d3.format(',.0f'));\n",
       "\n",
       "    \n",
       "    \n",
       "\n",
       "        \n",
       "\n",
       "\n",
       "\n",
       "            d3.select('#discretebarchart svg')\n",
       "            .datum(datum)\n",
       "            .transition().duration(500)\n",
       "            .attr('width', 500)\n",
       "            .attr('height', 500)\n",
       "            .call(chart);\n",
       "\n",
       "    \n",
       "        });\n",
       "\n",
       "\n",
       "\n",
       "    </script>\n",
       "\n",
       "    </body>\n",
       "</html>"
      ],
      "text/plain": [
       "<IPython.core.display.HTML object>"
      ]
     },
     "metadata": {},
     "output_type": "display_data"
    }
   ],
   "source": [
    "from IPython.display import display, HTML\n",
    "\n",
    "\n",
    "display(HTML(chart_html))"
   ]
  },
  {
   "cell_type": "code",
   "execution_count": null,
   "metadata": {
    "collapsed": true
   },
   "outputs": [],
   "source": []
  }
 ],
 "metadata": {
  "kernelspec": {
   "display_name": "Python 3",
   "language": "python",
   "name": "python3"
  },
  "language_info": {
   "codemirror_mode": {
    "name": "ipython",
    "version": 3
   },
   "file_extension": ".py",
   "mimetype": "text/x-python",
   "name": "python",
   "nbconvert_exporter": "python",
   "pygments_lexer": "ipython3",
   "version": "3.4.3"
  }
 },
 "nbformat": 4,
 "nbformat_minor": 0
}
